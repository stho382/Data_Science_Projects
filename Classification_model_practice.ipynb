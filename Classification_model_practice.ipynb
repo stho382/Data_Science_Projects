{
  "nbformat": 4,
  "nbformat_minor": 0,
  "metadata": {
    "colab": {
      "name": "Learning Python and Data Science.ipynb",
      "provenance": [],
      "authorship_tag": "ABX9TyMmrOGBRDRW9lIxn27qWtxz",
      "include_colab_link": true
    },
    "kernelspec": {
      "name": "python3",
      "display_name": "Python 3"
    }
  },
  "cells": [
    {
      "cell_type": "markdown",
      "metadata": {
        "id": "view-in-github",
        "colab_type": "text"
      },
      "source": [
        "<a href=\"https://colab.research.google.com/github/stho382/Data_Science_Projects/blob/main/Classification_model_practice.ipynb\" target=\"_parent\"><img src=\"https://colab.research.google.com/assets/colab-badge.svg\" alt=\"Open In Colab\"/></a>"
      ]
    },
    {
      "cell_type": "markdown",
      "metadata": {
        "id": "TOXLL6lEhs45"
      },
      "source": [
        "# Creating a Gender Classifier"
      ]
    },
    {
      "cell_type": "markdown",
      "metadata": {
        "id": "IBlELxAbMUB0"
      },
      "source": [
        "MIT License\r\n",
        "\r\n",
        "Copyright (c) 2021 Sebastian Thomas\r\n",
        "\r\n",
        "Permission is hereby granted, free of charge, to any person obtaining a copy\r\n",
        "of this software and associated documentation files (the \"Software\"), to deal\r\n",
        "in the Software without restriction, including without limitation the rights\r\n",
        "to use, copy, modify, merge, publish, distribute, sublicense, and/or sell\r\n",
        "copies of the Software, and to permit persons to whom the Software is\r\n",
        "furnished to do so, subject to the following conditions:\r\n",
        "\r\n",
        "The above copyright notice and this permission notice shall be included in all\r\n",
        "copies or substantial portions of the Software.\r\n",
        "\r\n",
        "THE SOFTWARE IS PROVIDED \"AS IS\", WITHOUT WARRANTY OF ANY KIND, EXPRESS OR\r\n",
        "IMPLIED, INCLUDING BUT NOT LIMITED TO THE WARRANTIES OF MERCHANTABILITY,\r\n",
        "FITNESS FOR A PARTICULAR PURPOSE AND NONINFRINGEMENT. IN NO EVENT SHALL THE\r\n",
        "AUTHORS OR COPYRIGHT HOLDERS BE LIABLE FOR ANY CLAIM, DAMAGES OR OTHER\r\n",
        "LIABILITY, WHETHER IN AN ACTION OF CONTRACT, TORT OR OTHERWISE, ARISING FROM,\r\n",
        "OUT OF OR IN CONNECTION WITH THE SOFTWARE OR THE USE OR OTHER DEALINGS IN THE\r\n",
        "SOFTWARE."
      ]
    },
    {
      "cell_type": "markdown",
      "metadata": {
        "id": "B_fs0a8xhlcO"
      },
      "source": [
        "### Installing Dependencies"
      ]
    },
    {
      "cell_type": "code",
      "metadata": {
        "colab": {
          "base_uri": "https://localhost:8080/"
        },
        "id": "uvVOtiAlhUNm",
        "outputId": "3407b6c4-6292-42a6-da65-42cdbf199282"
      },
      "source": [
        "!pip install -U scikit-learn"
      ],
      "execution_count": null,
      "outputs": [
        {
          "output_type": "stream",
          "text": [
            "Requirement already up-to-date: scikit-learn in /usr/local/lib/python3.6/dist-packages (0.24.1)\n",
            "Requirement already satisfied, skipping upgrade: joblib>=0.11 in /usr/local/lib/python3.6/dist-packages (from scikit-learn) (1.0.0)\n",
            "Requirement already satisfied, skipping upgrade: numpy>=1.13.3 in /usr/local/lib/python3.6/dist-packages (from scikit-learn) (1.19.5)\n",
            "Requirement already satisfied, skipping upgrade: scipy>=0.19.1 in /usr/local/lib/python3.6/dist-packages (from scikit-learn) (1.4.1)\n",
            "Requirement already satisfied, skipping upgrade: threadpoolctl>=2.0.0 in /usr/local/lib/python3.6/dist-packages (from scikit-learn) (2.1.0)\n"
          ],
          "name": "stdout"
        }
      ]
    },
    {
      "cell_type": "markdown",
      "metadata": {
        "id": "N-5MrVO71MCh"
      },
      "source": [
        "### Splitting dataset"
      ]
    },
    {
      "cell_type": "code",
      "metadata": {
        "id": "BltChfq9iDN7"
      },
      "source": [
        "from sklearn.metrics import accuracy_score\r\n",
        "from sklearn.model_selection import train_test_split\r\n",
        "from sklearn import metrics"
      ],
      "execution_count": null,
      "outputs": []
    },
    {
      "cell_type": "code",
      "metadata": {
        "id": "mNBTMfKviRcg"
      },
      "source": [
        "# creating a list of data\r\n",
        "\r\n",
        "# [height, weigth, shoe size] of a person\r\n",
        "X = [[181, 80, 44], [177, 70, 43], [160, 60, 38], [154, 54, 37], [166, 65, 40], [190, 90, 47], [175, 64, 39], [177, 70, 40], [159, 55, 37], [171, 75, 42], [181, 85, 43]]\r\n",
        "\r\n",
        "Y = ['male', 'female', 'female', 'female', 'male', 'male', 'male', 'female', 'male', 'female', 'male']\r\n"
      ],
      "execution_count": null,
      "outputs": []
    },
    {
      "cell_type": "code",
      "metadata": {
        "id": "E_HcAcFMuWns"
      },
      "source": [
        "#Splitting data into training and testing\r\n",
        "var_train, var_test, res_train, res_test = train_test_split(X, Y, test_size = 0.3, random_state=42)"
      ],
      "execution_count": null,
      "outputs": []
    },
    {
      "cell_type": "markdown",
      "metadata": {
        "id": "wBZWCR9eiKIM"
      },
      "source": [
        "### Using decision trees"
      ]
    },
    {
      "cell_type": "code",
      "metadata": {
        "id": "B2vxNlWx1J8J"
      },
      "source": [
        "from sklearn.tree import DecisionTreeClassifier"
      ],
      "execution_count": null,
      "outputs": []
    },
    {
      "cell_type": "code",
      "metadata": {
        "id": "RIrAPGqqnoXc"
      },
      "source": [
        "#Creating a decision tree model\r\n",
        "decision_tree = DecisionTreeClassifier()"
      ],
      "execution_count": null,
      "outputs": []
    },
    {
      "cell_type": "code",
      "metadata": {
        "id": "CzUWnulHn27H"
      },
      "source": [
        "#Training the classifier on our dataset\r\n",
        "decision_tree = decision_tree.fit(var_train, res_train)"
      ],
      "execution_count": null,
      "outputs": []
    },
    {
      "cell_type": "code",
      "metadata": {
        "id": "zv4akqSlvABI"
      },
      "source": [
        "# Testing the accuracy with the test set\r\n",
        "res_pred = decision_tree.predict(var_test)\r\n",
        "score = accuracy_score(res_test, res_pred)"
      ],
      "execution_count": null,
      "outputs": []
    },
    {
      "cell_type": "code",
      "metadata": {
        "colab": {
          "base_uri": "https://localhost:8080/"
        },
        "id": "XNC7XUGsvsTo",
        "outputId": "74a52610-01ff-47fc-ff5a-b309d4fe302f"
      },
      "source": [
        "print(score)"
      ],
      "execution_count": null,
      "outputs": [
        {
          "output_type": "stream",
          "text": [
            "0.25\n"
          ],
          "name": "stdout"
        }
      ]
    },
    {
      "cell_type": "code",
      "metadata": {
        "colab": {
          "base_uri": "https://localhost:8080/"
        },
        "id": "03DztQI21uvd",
        "outputId": "5246cfa6-8571-4b7c-89c2-975a4a28a841"
      },
      "source": [
        "print(metrics.classification_report(res_test, res_pred))"
      ],
      "execution_count": null,
      "outputs": [
        {
          "output_type": "stream",
          "text": [
            "              precision    recall  f1-score   support\n",
            "\n",
            "      female       0.25      1.00      0.40         1\n",
            "        male       0.00      0.00      0.00         3\n",
            "\n",
            "    accuracy                           0.25         4\n",
            "   macro avg       0.12      0.50      0.20         4\n",
            "weighted avg       0.06      0.25      0.10         4\n",
            "\n"
          ],
          "name": "stdout"
        },
        {
          "output_type": "stream",
          "text": [
            "/usr/local/lib/python3.6/dist-packages/sklearn/metrics/_classification.py:1245: UndefinedMetricWarning: Precision and F-score are ill-defined and being set to 0.0 in labels with no predicted samples. Use `zero_division` parameter to control this behavior.\n",
            "  _warn_prf(average, modifier, msg_start, len(result))\n",
            "/usr/local/lib/python3.6/dist-packages/sklearn/metrics/_classification.py:1245: UndefinedMetricWarning: Precision and F-score are ill-defined and being set to 0.0 in labels with no predicted samples. Use `zero_division` parameter to control this behavior.\n",
            "  _warn_prf(average, modifier, msg_start, len(result))\n",
            "/usr/local/lib/python3.6/dist-packages/sklearn/metrics/_classification.py:1245: UndefinedMetricWarning: Precision and F-score are ill-defined and being set to 0.0 in labels with no predicted samples. Use `zero_division` parameter to control this behavior.\n",
            "  _warn_prf(average, modifier, msg_start, len(result))\n"
          ],
          "name": "stderr"
        }
      ]
    },
    {
      "cell_type": "code",
      "metadata": {
        "colab": {
          "base_uri": "https://localhost:8080/"
        },
        "id": "vFhuh__VoHdA",
        "outputId": "e76929e6-8dc6-49a2-8f32-92c5c7ac39f6"
      },
      "source": [
        "# predicting the outcome of an input\r\n",
        "prediction = decision_tree.predict([[190, 70, 43]])\r\n",
        "print(prediction)"
      ],
      "execution_count": null,
      "outputs": [
        {
          "output_type": "stream",
          "text": [
            "['female']\n"
          ],
          "name": "stdout"
        }
      ]
    },
    {
      "cell_type": "markdown",
      "metadata": {
        "id": "WxeAHb80q0uv"
      },
      "source": [
        "### Using Support Vector Machines"
      ]
    },
    {
      "cell_type": "code",
      "metadata": {
        "id": "kp0EQDOIpbug"
      },
      "source": [
        "from sklearn.svm import SVC"
      ],
      "execution_count": null,
      "outputs": []
    },
    {
      "cell_type": "code",
      "metadata": {
        "id": "fbUnB7n6r31r"
      },
      "source": [
        "# Creating a SVM model\r\n",
        "Support_Vector = SVC() "
      ],
      "execution_count": null,
      "outputs": []
    },
    {
      "cell_type": "code",
      "metadata": {
        "id": "OnTSOxSmsFto"
      },
      "source": [
        "#Training the classifier\r\n",
        "Support_Vector = Support_Vector.fit(var_train, res_train)"
      ],
      "execution_count": null,
      "outputs": []
    },
    {
      "cell_type": "code",
      "metadata": {
        "colab": {
          "base_uri": "https://localhost:8080/"
        },
        "id": "YBhktDqVsN4-",
        "outputId": "bbcfb5aa-6d76-4c97-80a2-cd9015f84378"
      },
      "source": [
        "# scoring the accuracy of the model\r\n",
        "res_pred = Support_Vector.predict(var_test)\r\n",
        "score = accuracy_score(res_test, res_pred)\r\n",
        "print(score)"
      ],
      "execution_count": null,
      "outputs": [
        {
          "output_type": "stream",
          "text": [
            "0.25\n"
          ],
          "name": "stdout"
        }
      ]
    },
    {
      "cell_type": "code",
      "metadata": {
        "colab": {
          "base_uri": "https://localhost:8080/"
        },
        "id": "8Fs45v_A5CdU",
        "outputId": "a2d22652-fe47-4d5a-e4b3-03692f6417db"
      },
      "source": [
        "print(metrics.classification_report(res_test, res_pred))"
      ],
      "execution_count": null,
      "outputs": [
        {
          "output_type": "stream",
          "text": [
            "              precision    recall  f1-score   support\n",
            "\n",
            "      female       0.25      1.00      0.40         1\n",
            "        male       0.00      0.00      0.00         3\n",
            "\n",
            "    accuracy                           0.25         4\n",
            "   macro avg       0.12      0.50      0.20         4\n",
            "weighted avg       0.06      0.25      0.10         4\n",
            "\n"
          ],
          "name": "stdout"
        },
        {
          "output_type": "stream",
          "text": [
            "/usr/local/lib/python3.6/dist-packages/sklearn/metrics/_classification.py:1245: UndefinedMetricWarning: Precision and F-score are ill-defined and being set to 0.0 in labels with no predicted samples. Use `zero_division` parameter to control this behavior.\n",
            "  _warn_prf(average, modifier, msg_start, len(result))\n",
            "/usr/local/lib/python3.6/dist-packages/sklearn/metrics/_classification.py:1245: UndefinedMetricWarning: Precision and F-score are ill-defined and being set to 0.0 in labels with no predicted samples. Use `zero_division` parameter to control this behavior.\n",
            "  _warn_prf(average, modifier, msg_start, len(result))\n",
            "/usr/local/lib/python3.6/dist-packages/sklearn/metrics/_classification.py:1245: UndefinedMetricWarning: Precision and F-score are ill-defined and being set to 0.0 in labels with no predicted samples. Use `zero_division` parameter to control this behavior.\n",
            "  _warn_prf(average, modifier, msg_start, len(result))\n"
          ],
          "name": "stderr"
        }
      ]
    },
    {
      "cell_type": "code",
      "metadata": {
        "colab": {
          "base_uri": "https://localhost:8080/"
        },
        "id": "em7hC2sGsTT-",
        "outputId": "2ee7b292-f177-4f0b-c8dd-e49b35edbc39"
      },
      "source": [
        "# predicting the outcome of an input\r\n",
        "prediction = Support_Vector.predict([[190, 70, 43]])\r\n",
        "print(prediction)"
      ],
      "execution_count": null,
      "outputs": [
        {
          "output_type": "stream",
          "text": [
            "['female']\n"
          ],
          "name": "stdout"
        }
      ]
    },
    {
      "cell_type": "markdown",
      "metadata": {
        "id": "HP4V-ioLw9Lp"
      },
      "source": [
        "### Using Logistic Regression"
      ]
    },
    {
      "cell_type": "code",
      "metadata": {
        "id": "K8kZ8UbZw8Nn"
      },
      "source": [
        "from sklearn.linear_model import LogisticRegression"
      ],
      "execution_count": null,
      "outputs": []
    },
    {
      "cell_type": "code",
      "metadata": {
        "id": "cZI5AMxuw5iG"
      },
      "source": [
        "reg_log = LogisticRegression()"
      ],
      "execution_count": null,
      "outputs": []
    },
    {
      "cell_type": "code",
      "metadata": {
        "id": "6ZSTk1gHzuVM"
      },
      "source": [
        "#Training the classifier\r\n",
        "reg_log = reg_log.fit(var_train, res_train)"
      ],
      "execution_count": null,
      "outputs": []
    },
    {
      "cell_type": "code",
      "metadata": {
        "colab": {
          "base_uri": "https://localhost:8080/"
        },
        "id": "qC72SqCSz0Of",
        "outputId": "9bbad1fe-9e52-410d-a604-a1af3a7dabad"
      },
      "source": [
        "# scoring the accuracy of the model\r\n",
        "res_pred = reg_log.predict(var_test)\r\n",
        "score = accuracy_score(res_test, res_pred)\r\n",
        "print(score)"
      ],
      "execution_count": null,
      "outputs": [
        {
          "output_type": "stream",
          "text": [
            "0.25\n"
          ],
          "name": "stdout"
        }
      ]
    },
    {
      "cell_type": "code",
      "metadata": {
        "colab": {
          "base_uri": "https://localhost:8080/"
        },
        "id": "N_nZePRR5Ja1",
        "outputId": "90304660-22c5-4a45-d8e2-3a337fa2234e"
      },
      "source": [
        "print(metrics.classification_report(res_test, res_pred))"
      ],
      "execution_count": null,
      "outputs": [
        {
          "output_type": "stream",
          "text": [
            "              precision    recall  f1-score   support\n",
            "\n",
            "      female       0.25      1.00      0.40         1\n",
            "        male       0.00      0.00      0.00         3\n",
            "\n",
            "    accuracy                           0.25         4\n",
            "   macro avg       0.12      0.50      0.20         4\n",
            "weighted avg       0.06      0.25      0.10         4\n",
            "\n"
          ],
          "name": "stdout"
        },
        {
          "output_type": "stream",
          "text": [
            "/usr/local/lib/python3.6/dist-packages/sklearn/metrics/_classification.py:1245: UndefinedMetricWarning: Precision and F-score are ill-defined and being set to 0.0 in labels with no predicted samples. Use `zero_division` parameter to control this behavior.\n",
            "  _warn_prf(average, modifier, msg_start, len(result))\n",
            "/usr/local/lib/python3.6/dist-packages/sklearn/metrics/_classification.py:1245: UndefinedMetricWarning: Precision and F-score are ill-defined and being set to 0.0 in labels with no predicted samples. Use `zero_division` parameter to control this behavior.\n",
            "  _warn_prf(average, modifier, msg_start, len(result))\n",
            "/usr/local/lib/python3.6/dist-packages/sklearn/metrics/_classification.py:1245: UndefinedMetricWarning: Precision and F-score are ill-defined and being set to 0.0 in labels with no predicted samples. Use `zero_division` parameter to control this behavior.\n",
            "  _warn_prf(average, modifier, msg_start, len(result))\n"
          ],
          "name": "stderr"
        }
      ]
    },
    {
      "cell_type": "code",
      "metadata": {
        "colab": {
          "base_uri": "https://localhost:8080/"
        },
        "id": "Y_3E6VB9z80z",
        "outputId": "8dbfe79d-047d-49ca-dbbf-76d96e0bd6b6"
      },
      "source": [
        "# predicting the outcome of an input\r\n",
        "prediction = reg_log.predict([[190, 70, 43]])\r\n",
        "print(prediction)"
      ],
      "execution_count": null,
      "outputs": [
        {
          "output_type": "stream",
          "text": [
            "['male']\n"
          ],
          "name": "stdout"
        }
      ]
    },
    {
      "cell_type": "markdown",
      "metadata": {
        "id": "uHPKjq895MNj"
      },
      "source": [
        "### Using K-Nearest Neigbours"
      ]
    },
    {
      "cell_type": "code",
      "metadata": {
        "id": "xHCupP9A49M5"
      },
      "source": [
        "from sklearn.neighbors import KNeighborsClassifier"
      ],
      "execution_count": null,
      "outputs": []
    },
    {
      "cell_type": "code",
      "metadata": {
        "id": "gkPdTVgO5Rsc"
      },
      "source": [
        "#Training and testing the model\r\n",
        "reg_knn = KNeighborsClassifier()\r\n",
        "reg_knn = reg_knn.fit(var_train, res_train)\r\n",
        "res_pred = reg_knn.predict(var_test)"
      ],
      "execution_count": null,
      "outputs": []
    },
    {
      "cell_type": "code",
      "metadata": {
        "colab": {
          "base_uri": "https://localhost:8080/"
        },
        "id": "zSkBVUD55g_3",
        "outputId": "50b47dd9-eeed-49c0-8371-a89df63cceb9"
      },
      "source": [
        "# Scoring\r\n",
        "res_pred = reg_knn.predict(var_test)\r\n",
        "score = accuracy_score(res_test, res_pred)\r\n",
        "print(score)"
      ],
      "execution_count": null,
      "outputs": [
        {
          "output_type": "stream",
          "text": [
            "0.25\n"
          ],
          "name": "stdout"
        }
      ]
    },
    {
      "cell_type": "code",
      "metadata": {
        "colab": {
          "base_uri": "https://localhost:8080/"
        },
        "id": "W6UpHWNg5nRC",
        "outputId": "090617e9-58f2-4455-a716-fbc45a564411"
      },
      "source": [
        "print(metrics.classification_report(res_test, res_pred))"
      ],
      "execution_count": null,
      "outputs": [
        {
          "output_type": "stream",
          "text": [
            "              precision    recall  f1-score   support\n",
            "\n",
            "      female       0.25      1.00      0.40         1\n",
            "        male       0.00      0.00      0.00         3\n",
            "\n",
            "    accuracy                           0.25         4\n",
            "   macro avg       0.12      0.50      0.20         4\n",
            "weighted avg       0.06      0.25      0.10         4\n",
            "\n"
          ],
          "name": "stdout"
        },
        {
          "output_type": "stream",
          "text": [
            "/usr/local/lib/python3.6/dist-packages/sklearn/metrics/_classification.py:1245: UndefinedMetricWarning: Precision and F-score are ill-defined and being set to 0.0 in labels with no predicted samples. Use `zero_division` parameter to control this behavior.\n",
            "  _warn_prf(average, modifier, msg_start, len(result))\n",
            "/usr/local/lib/python3.6/dist-packages/sklearn/metrics/_classification.py:1245: UndefinedMetricWarning: Precision and F-score are ill-defined and being set to 0.0 in labels with no predicted samples. Use `zero_division` parameter to control this behavior.\n",
            "  _warn_prf(average, modifier, msg_start, len(result))\n",
            "/usr/local/lib/python3.6/dist-packages/sklearn/metrics/_classification.py:1245: UndefinedMetricWarning: Precision and F-score are ill-defined and being set to 0.0 in labels with no predicted samples. Use `zero_division` parameter to control this behavior.\n",
            "  _warn_prf(average, modifier, msg_start, len(result))\n"
          ],
          "name": "stderr"
        }
      ]
    },
    {
      "cell_type": "code",
      "metadata": {
        "colab": {
          "base_uri": "https://localhost:8080/"
        },
        "id": "MVet4dcj5pTh",
        "outputId": "4c3cd355-76e1-456c-8e79-2ff3c5b29ab3"
      },
      "source": [
        "# predicting the outcome of an input\r\n",
        "prediction = reg_knn.predict([[190, 70, 43]])\r\n",
        "print(prediction)"
      ],
      "execution_count": null,
      "outputs": [
        {
          "output_type": "stream",
          "text": [
            "['female']\n"
          ],
          "name": "stdout"
        }
      ]
    },
    {
      "cell_type": "markdown",
      "metadata": {
        "id": "pq9W4IFS7hx3"
      },
      "source": [
        "### Testing all the model through one function and outputting the best one"
      ]
    },
    {
      "cell_type": "code",
      "metadata": {
        "colab": {
          "base_uri": "https://localhost:8080/"
        },
        "id": "fLFG5CG27P8J",
        "outputId": "3a9b4041-8006-43a4-c4dd-727a44c8d5c3"
      },
      "source": [
        "def CompareModels():\r\n",
        "  packages = [DecisionTreeClassifier(), SVC(), LogisticRegression(), KNeighborsClassifier()]\r\n",
        "  accuracies = []\r\n",
        "  for i in range(len(packages)):\r\n",
        "    classifier = packages[i]\r\n",
        "    classifier = classifier.fit(var_train, res_train)\r\n",
        "    predicted = classifier.predict(var_test)\r\n",
        "    score = accuracy_score(res_test, predicted)\r\n",
        "    accuracies.append(score)\r\n",
        "  \r\n",
        "  for j in range(len(accuracies)):\r\n",
        "    if accuracies[j] == max(accuracies):\r\n",
        "      Output = classifier.predict([[190, 70, 43]])\r\n",
        "      print(\"Classification_Model: {}, Accuracy: {}, Test_Output: {}\\n\".format(packages[j], accuracies[j], Output))\r\n",
        "\r\n",
        "CompareModels()\r\n"
      ],
      "execution_count": null,
      "outputs": [
        {
          "output_type": "stream",
          "text": [
            "Classification_Model: SVC(), Accuracy: 0.25, Test_Output: ['female']\n",
            "\n",
            "Classification_Model: LogisticRegression(), Accuracy: 0.25, Test_Output: ['female']\n",
            "\n",
            "Classification_Model: KNeighborsClassifier(), Accuracy: 0.25, Test_Output: ['female']\n",
            "\n"
          ],
          "name": "stdout"
        }
      ]
    }
  ]
}